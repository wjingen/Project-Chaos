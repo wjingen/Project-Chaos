{
 "cells": [
  {
   "cell_type": "markdown",
   "id": "f84e6f07-5ce3-424a-9e46-600ed6362075",
   "metadata": {},
   "source": [
    "### Part 1: Perform Data Wrangling for Geographical Plotting\n",
    "\n",
    "**Actions Performed:**\n",
    "- Cleaning: Back and forward fill to deal with NA values\n",
    "- Generation: Extract latitudes and longitudes from location names\n",
    "- Structuring: Convert from wide to long form"
   ]
  },
  {
   "cell_type": "code",
   "execution_count": 1,
   "id": "a9e1bdd1-7f77-4854-8c50-12078d6b301d",
   "metadata": {},
   "outputs": [
    {
     "ename": "ImportError",
     "evalue": "cannot import name '_c_internal_utils' from partially initialized module 'matplotlib' (most likely due to a circular import) (C:\\Users\\jinge\\Desktop\\ukraine-panel\\final_venv\\lib\\site-packages\\matplotlib\\__init__.py)",
     "output_type": "error",
     "traceback": [
      "\u001b[1;31m---------------------------------------------------------------------------\u001b[0m",
      "\u001b[1;31mImportError\u001b[0m                               Traceback (most recent call last)",
      "\u001b[1;32m~\\AppData\\Local\\Temp\\ipykernel_24748\\1801933000.py\u001b[0m in \u001b[0;36m<cell line: 3>\u001b[1;34m()\u001b[0m\n\u001b[0;32m      1\u001b[0m \u001b[1;32mimport\u001b[0m \u001b[0mpandas\u001b[0m \u001b[1;32mas\u001b[0m \u001b[0mpd\u001b[0m\u001b[1;33m\u001b[0m\u001b[1;33m\u001b[0m\u001b[0m\n\u001b[0;32m      2\u001b[0m \u001b[1;32mimport\u001b[0m \u001b[0mnumpy\u001b[0m \u001b[1;32mas\u001b[0m \u001b[0mnp\u001b[0m\u001b[1;33m\u001b[0m\u001b[1;33m\u001b[0m\u001b[0m\n\u001b[1;32m----> 3\u001b[1;33m \u001b[1;32mimport\u001b[0m \u001b[0mmatplotlib\u001b[0m\u001b[1;33m.\u001b[0m\u001b[0mpyplot\u001b[0m \u001b[1;32mas\u001b[0m \u001b[0mplt\u001b[0m\u001b[1;33m\u001b[0m\u001b[1;33m\u001b[0m\u001b[0m\n\u001b[0m\u001b[0;32m      4\u001b[0m \u001b[1;31m# import panel as pn\u001b[0m\u001b[1;33m\u001b[0m\u001b[1;33m\u001b[0m\u001b[0m\n\u001b[0;32m      5\u001b[0m \u001b[1;31m# from geopy.geocoders import Nominatim\u001b[0m\u001b[1;33m\u001b[0m\u001b[1;33m\u001b[0m\u001b[0m\n",
      "\u001b[1;32m~\\Desktop\\ukraine-panel\\final_venv\\lib\\site-packages\\matplotlib\\__init__.py\u001b[0m in \u001b[0;36m<module>\u001b[1;34m\u001b[0m\n\u001b[0;32m    107\u001b[0m \u001b[1;31m# cbook must import matplotlib only within function\u001b[0m\u001b[1;33m\u001b[0m\u001b[1;33m\u001b[0m\u001b[0m\n\u001b[0;32m    108\u001b[0m \u001b[1;31m# definitions, so it is safe to import from it here.\u001b[0m\u001b[1;33m\u001b[0m\u001b[1;33m\u001b[0m\u001b[0m\n\u001b[1;32m--> 109\u001b[1;33m \u001b[1;32mfrom\u001b[0m \u001b[1;33m.\u001b[0m \u001b[1;32mimport\u001b[0m \u001b[0m_api\u001b[0m\u001b[1;33m,\u001b[0m \u001b[0m_version\u001b[0m\u001b[1;33m,\u001b[0m \u001b[0mcbook\u001b[0m\u001b[1;33m,\u001b[0m \u001b[0mdocstring\u001b[0m\u001b[1;33m,\u001b[0m \u001b[0mrcsetup\u001b[0m\u001b[1;33m\u001b[0m\u001b[1;33m\u001b[0m\u001b[0m\n\u001b[0m\u001b[0;32m    110\u001b[0m \u001b[1;32mfrom\u001b[0m \u001b[0mmatplotlib\u001b[0m\u001b[1;33m.\u001b[0m\u001b[0mcbook\u001b[0m \u001b[1;32mimport\u001b[0m \u001b[0mMatplotlibDeprecationWarning\u001b[0m\u001b[1;33m,\u001b[0m \u001b[0msanitize_sequence\u001b[0m\u001b[1;33m\u001b[0m\u001b[1;33m\u001b[0m\u001b[0m\n\u001b[0;32m    111\u001b[0m \u001b[1;32mfrom\u001b[0m \u001b[0mmatplotlib\u001b[0m\u001b[1;33m.\u001b[0m\u001b[0mcbook\u001b[0m \u001b[1;32mimport\u001b[0m \u001b[0mmplDeprecation\u001b[0m  \u001b[1;31m# deprecated\u001b[0m\u001b[1;33m\u001b[0m\u001b[1;33m\u001b[0m\u001b[0m\n",
      "\u001b[1;32m~\\Desktop\\ukraine-panel\\final_venv\\lib\\site-packages\\matplotlib\\cbook\\__init__.py\u001b[0m in \u001b[0;36m<module>\u001b[1;34m\u001b[0m\n\u001b[0;32m     29\u001b[0m \u001b[1;33m\u001b[0m\u001b[0m\n\u001b[0;32m     30\u001b[0m \u001b[1;32mimport\u001b[0m \u001b[0mmatplotlib\u001b[0m\u001b[1;33m\u001b[0m\u001b[1;33m\u001b[0m\u001b[0m\n\u001b[1;32m---> 31\u001b[1;33m \u001b[1;32mfrom\u001b[0m \u001b[0mmatplotlib\u001b[0m \u001b[1;32mimport\u001b[0m \u001b[0m_api\u001b[0m\u001b[1;33m,\u001b[0m \u001b[0m_c_internal_utils\u001b[0m\u001b[1;33m\u001b[0m\u001b[1;33m\u001b[0m\u001b[0m\n\u001b[0m\u001b[0;32m     32\u001b[0m from matplotlib._api.deprecation import (\n\u001b[0;32m     33\u001b[0m     MatplotlibDeprecationWarning, mplDeprecation)\n",
      "\u001b[1;31mImportError\u001b[0m: cannot import name '_c_internal_utils' from partially initialized module 'matplotlib' (most likely due to a circular import) (C:\\Users\\jinge\\Desktop\\ukraine-panel\\final_venv\\lib\\site-packages\\matplotlib\\__init__.py)"
     ]
    }
   ],
   "source": [
    "import pandas as pd\n",
    "import numpy as np\n",
    "import matplotlib.pyplot as plt\n",
    "# import panel as pn\n",
    "# from geopy.geocoders import Nominatim"
   ]
  },
  {
   "cell_type": "code",
   "execution_count": 2,
   "id": "02228965-3962-4b46-884d-de070c95c5dc",
   "metadata": {},
   "outputs": [],
   "source": [
    "def get_coordinates(address):\n",
    "    try:\n",
    "        geolocator = Nominatim(user_agent=\"MyApp\")\n",
    "        location = geolocator.geocode(address)\n",
    "        return (location.latitude, location.longitude)\n",
    "    except:\n",
    "        print(\"Failed to obtain coordinates for {}\".format(address))\n",
    "        return None"
   ]
  },
  {
   "cell_type": "code",
   "execution_count": 3,
   "id": "56e61fc4-ad6b-4e65-a12e-8b76420ef232",
   "metadata": {},
   "outputs": [],
   "source": [
    "# df_cleaned = df_data.apply(lambda x: x.replace(\"-\", np.nan))\n",
    "# df_cleaned = df_cleaned.backfill(axis = 1)\n",
    "# df_cleaned = df_cleaned.ffill(axis = 1)"
   ]
  },
  {
   "cell_type": "code",
   "execution_count": 4,
   "id": "a14442d8-faab-42ed-a549-ec51cc6e3cde",
   "metadata": {},
   "outputs": [],
   "source": [
    "# df_cleaned[\"latitude\"], df_cleaned[\"longitude\"] = list(zip(*[get_coordinates(location) for location in df_cleaned[\"Data Geomaster Name\"]]))"
   ]
  },
  {
   "cell_type": "code",
   "execution_count": 5,
   "id": "18a1d986-6de9-4444-abf9-4efed21b1cf7",
   "metadata": {},
   "outputs": [],
   "source": [
    "# df = pd.melt(df_cleaned, id_vars=['Data Geomaster Name',\"latitude\",\"longitude\"], value_vars=df_cleaned.columns[2:-2].tolist())"
   ]
  },
  {
   "cell_type": "code",
   "execution_count": 6,
   "id": "9e9dd29b-3558-42a4-8812-1d6d25109d90",
   "metadata": {},
   "outputs": [],
   "source": [
    "# df.columns = [\"Country\", \"Latitude\", \"Longitude\", \"Date\", \"Refugees from Ukraine\"]"
   ]
  },
  {
   "cell_type": "code",
   "execution_count": 7,
   "id": "44241b4f-3c9e-4d93-9743-db5f28b996ee",
   "metadata": {},
   "outputs": [],
   "source": [
    "# df[\"datetime\"] = pd.to_datetime(df[\"Date\"])"
   ]
  },
  {
   "cell_type": "code",
   "execution_count": 8,
   "id": "174e76b0-3520-4352-8356-491e51d92a71",
   "metadata": {},
   "outputs": [],
   "source": [
    "# df = df.astype({'Refugees from Ukraine':'int'})"
   ]
  },
  {
   "cell_type": "code",
   "execution_count": 9,
   "id": "acf24029-7602-4887-b5ac-81f1b3d65e4b",
   "metadata": {},
   "outputs": [],
   "source": [
    "# df.to_csv(\"refugee_movements_by_countries.csv\")"
   ]
  },
  {
   "cell_type": "markdown",
   "id": "1a9dcd42-ba1b-4a28-be08-f31477cdb59e",
   "metadata": {
    "tags": []
   },
   "source": [
    "### Part 2: Geographical Visualisation using Plotly\n",
    "\n",
    "We use a **choropleth map** to visualise the number of refugees escaping Ukraine to its 7 neighbouring countries."
   ]
  },
  {
   "cell_type": "code",
   "execution_count": 11,
   "id": "f680c561-0a51-4e6c-866e-a5c92a6f1e81",
   "metadata": {},
   "outputs": [
    {
     "ename": "ModuleNotFoundError",
     "evalue": "No module named 'plotly'",
     "output_type": "error",
     "traceback": [
      "\u001b[1;31m---------------------------------------------------------------------------\u001b[0m",
      "\u001b[1;31mModuleNotFoundError\u001b[0m                       Traceback (most recent call last)",
      "\u001b[1;32m~\\AppData\\Local\\Temp\\ipykernel_52388\\299059251.py\u001b[0m in \u001b[0;36m<module>\u001b[1;34m\u001b[0m\n\u001b[0;32m      1\u001b[0m \u001b[1;32mimport\u001b[0m \u001b[0mpandas\u001b[0m \u001b[1;32mas\u001b[0m \u001b[0mpd\u001b[0m\u001b[1;33m\u001b[0m\u001b[0m\n\u001b[1;32m----> 2\u001b[1;33m \u001b[1;32mimport\u001b[0m \u001b[0mplotly\u001b[0m\u001b[1;33m.\u001b[0m\u001b[0moffline\u001b[0m \u001b[1;32mas\u001b[0m \u001b[0mpo\u001b[0m\u001b[1;33m\u001b[0m\u001b[0m\n\u001b[0m\u001b[0;32m      3\u001b[0m \u001b[1;32mimport\u001b[0m \u001b[0mplotly\u001b[0m\u001b[1;33m.\u001b[0m\u001b[0mgraph_objs\u001b[0m \u001b[1;32mas\u001b[0m \u001b[0mpg\u001b[0m\u001b[1;33m\u001b[0m\u001b[0m\n\u001b[0;32m      4\u001b[0m \u001b[1;32mimport\u001b[0m \u001b[0mplotly\u001b[0m\u001b[1;33m.\u001b[0m\u001b[0mgraph_objects\u001b[0m \u001b[1;32mas\u001b[0m \u001b[0mgo\u001b[0m\u001b[1;33m\u001b[0m\u001b[0m\n\u001b[0;32m      5\u001b[0m \u001b[1;32mimport\u001b[0m \u001b[0mplotly\u001b[0m\u001b[1;33m.\u001b[0m\u001b[0mexpress\u001b[0m \u001b[1;32mas\u001b[0m \u001b[0mpx\u001b[0m\u001b[1;33m\u001b[0m\u001b[0m\n",
      "\u001b[1;31mModuleNotFoundError\u001b[0m: No module named 'plotly'"
     ]
    }
   ],
   "source": [
    "import pandas as pd\n",
    "import plotly.offline as po\n",
    "import plotly.graph_objs as pg\n",
    "import plotly.graph_objects as go\n",
    "import plotly.express as px\n",
    "import panel as pn\n",
    "pn.extension(\"plotly\")\n",
    "\n",
    "import matplotlib.pyplot as plt\n",
    "%matplotlib inline"
   ]
  },
  {
   "cell_type": "code",
   "execution_count": 12,
   "id": "adffa568-4d69-4218-b024-b63b4aefbd2d",
   "metadata": {},
   "outputs": [
    {
     "ename": "NameError",
     "evalue": "name 'pn' is not defined",
     "output_type": "error",
     "traceback": [
      "\u001b[1;31m---------------------------------------------------------------------------\u001b[0m",
      "\u001b[1;31mNameError\u001b[0m                                 Traceback (most recent call last)",
      "\u001b[1;32m~\\AppData\\Local\\Temp\\ipykernel_52388\\517945624.py\u001b[0m in \u001b[0;36m<module>\u001b[1;34m\u001b[0m\n\u001b[0;32m      4\u001b[0m \u001b[1;33m\u001b[0m\u001b[0m\n\u001b[0;32m      5\u001b[0m \u001b[1;31m# cache data to improve dashboard performance\u001b[0m\u001b[1;33m\u001b[0m\u001b[1;33m\u001b[0m\u001b[0m\n\u001b[1;32m----> 6\u001b[1;33m \u001b[1;32mif\u001b[0m \u001b[1;34m'refugee_movements_by_countries'\u001b[0m \u001b[1;32mnot\u001b[0m \u001b[1;32min\u001b[0m \u001b[0mpn\u001b[0m\u001b[1;33m.\u001b[0m\u001b[0mstate\u001b[0m\u001b[1;33m.\u001b[0m\u001b[0mcache\u001b[0m\u001b[1;33m.\u001b[0m\u001b[0mkeys\u001b[0m\u001b[1;33m(\u001b[0m\u001b[1;33m)\u001b[0m\u001b[1;33m:\u001b[0m\u001b[1;33m\u001b[0m\u001b[0m\n\u001b[0m\u001b[0;32m      7\u001b[0m     \u001b[0mdf\u001b[0m \u001b[1;33m=\u001b[0m \u001b[0mpd\u001b[0m\u001b[1;33m.\u001b[0m\u001b[0mread_csv\u001b[0m\u001b[1;33m(\u001b[0m\u001b[0murl\u001b[0m\u001b[1;33m,\u001b[0m \u001b[0mindex_col\u001b[0m \u001b[1;33m=\u001b[0m \u001b[1;36m0\u001b[0m\u001b[1;33m)\u001b[0m\u001b[1;33m\u001b[0m\u001b[0m\n\u001b[0;32m      8\u001b[0m     \u001b[0mpn\u001b[0m\u001b[1;33m.\u001b[0m\u001b[0mstate\u001b[0m\u001b[1;33m.\u001b[0m\u001b[0mcache\u001b[0m\u001b[1;33m[\u001b[0m\u001b[1;34m'refugee_movements_by_countries'\u001b[0m\u001b[1;33m]\u001b[0m \u001b[1;33m=\u001b[0m \u001b[0mdf\u001b[0m\u001b[1;33m.\u001b[0m\u001b[0mcopy\u001b[0m\u001b[1;33m(\u001b[0m\u001b[1;33m)\u001b[0m\u001b[1;33m\u001b[0m\u001b[0m\n",
      "\u001b[1;31mNameError\u001b[0m: name 'pn' is not defined"
     ]
    }
   ],
   "source": [
    "# original_df = pd.read_csv(\"../csv_files/refugee_movements_by_countries.csv\")\n",
    "\n",
    "url = \"https://raw.githubusercontent.com/wjingen/Project-Chaos/master/csv_files/refugee_movements_by_countries.csv\"\n",
    "\n",
    "# cache data to improve dashboard performance\n",
    "if 'refugee_movements_by_countries' not in pn.state.cache.keys():\n",
    "    df = pd.read_csv(url, index_col = 0)\n",
    "    pn.state.cache['refugee_movements_by_countries'] = df.copy()\n",
    "else: \n",
    "    df = pn.state.cache['refugee_movements_by_countries']"
   ]
  },
  {
   "cell_type": "code",
   "execution_count": null,
   "id": "8ab59451-9127-43c6-8c29-73e30b538aa0",
   "metadata": {},
   "outputs": [],
   "source": [
    "df_others, df_ukraine = df[df[\"Country\"] != \"Ukraine\"], df[df[\"Country\"] == \"Ukraine\"]"
   ]
  },
  {
   "cell_type": "code",
   "execution_count": null,
   "id": "fea4c9f1-11ac-417d-9e91-65649b990181",
   "metadata": {},
   "outputs": [],
   "source": [
    "fig = px.choropleth(df_others, \n",
    "                  locations=\"Country\",\n",
    "                  locationmode = \"country names\",\n",
    "                  hover_name=\"Country\",\n",
    "                  animation_frame = \"Date\",\n",
    "                  color = \"Refugees from Ukraine\",\n",
    "                  scope=\"europe\",\n",
    "                  height=800,\n",
    "                  width=1000,\n",
    "                  color_continuous_scale=px.colors.sequential.Cividis,\n",
    "                  range_color=[0,1000000],\n",
    "                  center = {\"lat\": 48.3794, \"lon\": 31.1656}, # Ukraine's coordinates\n",
    "                  fitbounds = \"locations\",\n",
    "                  )\n",
    "\n",
    "fig.update_layout(title_font_size=30, \n",
    "                  # paper_bgcolor = 'rgba(0,0,0,0)',\n",
    "                  # plot_bgcolor='rgba(0,0,0,0)',\n",
    "                  legend_bgcolor = \"#00FF00\",\n",
    "                  legend_bordercolor=\"#00FF00\",\n",
    "                  # showlegend=True,\n",
    "                  geo=dict(bgcolor= 'rgba(0,0,0,0)') # change choropleth background to white\n",
    "                 )\n",
    "\n",
    "# fig.show()"
   ]
  },
  {
   "cell_type": "code",
   "execution_count": null,
   "id": "ecd6d1b8-330a-4b04-a2b8-9778013efd9d",
   "metadata": {},
   "outputs": [],
   "source": [
    "def impact_1():\n",
    "    return pn.Column(pn.pane.Markdown(\"## Movement of Ukrainian Refugees into Neighbouring Countries\"), \n",
    "         pn.pane.Markdown(\"The war has displaced nearly 12 million Ukrainians from their homeland.\"),\n",
    "         pn.pane.Markdown(\"**Poland** has seen the largest influx of Ukrainian refugees, with the number hovering around 3.6 million refugees. \\\n",
    "                             Russia and Romania are close behind, receiving roughly 1 million Ukrainian refugees.\"),\n",
    "         pn.pane.Markdown(\"**Drag** the interactive slider below to see the movement over time. **Zoom in** on the map to see specific countries.\"),\n",
    "         pn.pane.Plotly(fig))\n",
    "\n",
    "# impact_1().show()\n",
    "\n",
    "impact_1().servable()"
   ]
  }
 ],
 "metadata": {
  "kernelspec": {
   "display_name": "Python 3 (ipykernel)",
   "language": "python",
   "name": "python3"
  },
  "language_info": {
   "codemirror_mode": {
    "name": "ipython",
    "version": 3
   },
   "file_extension": ".py",
   "mimetype": "text/x-python",
   "name": "python",
   "nbconvert_exporter": "python",
   "pygments_lexer": "ipython3",
   "version": "3.10.5"
  }
 },
 "nbformat": 4,
 "nbformat_minor": 5
}
