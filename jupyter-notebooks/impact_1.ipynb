{
 "cells": [
  {
   "cell_type": "code",
   "execution_count": null,
   "id": "a9e1bdd1-7f77-4854-8c50-12078d6b301d",
   "metadata": {},
   "outputs": [],
   "source": [
    "import pandas as pd\n",
    "import numpy as np\n",
    "import matplotlib.pyplot as plt\n",
    "from geopy.geocoders import Nominatim"
   ]
  },
  {
   "cell_type": "markdown",
   "id": "f84e6f07-5ce3-424a-9e46-600ed6362075",
   "metadata": {},
   "source": [
    "### Part 1: Perform Data Wrangling for Geographical Plotting\n",
    "\n",
    "**Actions Performed:**\n",
    "- Cleaning: Back and forward fill to deal with NA values\n",
    "- Generation: Extract latitudes and longitudes from location names\n",
    "- Structuring: Convert from wide to long form"
   ]
  },
  {
   "cell_type": "code",
   "execution_count": null,
   "id": "7249ba38-29ca-44b7-823d-2db95367f4cc",
   "metadata": {},
   "outputs": [],
   "source": [
    "pd.set_option('display.max_columns', 500)"
   ]
  },
  {
   "cell_type": "code",
   "execution_count": null,
   "id": "51830f0b-5043-4169-8c54-1dbc63f05651",
   "metadata": {},
   "outputs": [],
   "source": [
    "original_df = pd.read_csv(\"../csv_files/refugee_movements_by_country.csv\")"
   ]
  },
  {
   "cell_type": "code",
   "execution_count": null,
   "id": "56e61fc4-ad6b-4e65-a12e-8b76420ef232",
   "metadata": {},
   "outputs": [],
   "source": [
    "df_cleaned = original_df.apply(lambda x: x.replace(\"-\",np.nan))\n",
    "df_cleaned = df_cleaned.backfill(axis = 1)\n",
    "df_cleaned = df_cleaned.ffill(axis = 1)"
   ]
  },
  {
   "cell_type": "code",
   "execution_count": null,
   "id": "02228965-3962-4b46-884d-de070c95c5dc",
   "metadata": {},
   "outputs": [],
   "source": [
    "def get_coordinates(address):\n",
    "    try:\n",
    "        geolocator = Nominatim(user_agent=\"MyApp\")\n",
    "        location = geolocator.geocode(address)\n",
    "        # print(\"The latitude of the location is: \", location.latitude)\n",
    "        # print(\"The longitude of the location is: \", location.longitude)\n",
    "        return (location.latitude, location.longitude)\n",
    "    except:\n",
    "        print(\"Failed to obtain coordinates for {}\".format(address))\n",
    "        return None\n",
    "    \n",
    "# get_coordinates(\"Singapore\")"
   ]
  },
  {
   "cell_type": "code",
   "execution_count": null,
   "id": "a14442d8-faab-42ed-a549-ec51cc6e3cde",
   "metadata": {},
   "outputs": [],
   "source": [
    "df_cleaned[\"latitude\"], df_cleaned[\"longitude\"] = list(zip(*[get_coordinates(location) for location in df_cleaned[\"Data Geomaster Name\"]]))"
   ]
  },
  {
   "cell_type": "code",
   "execution_count": null,
   "id": "18a1d986-6de9-4444-abf9-4efed21b1cf7",
   "metadata": {},
   "outputs": [],
   "source": [
    "df = pd.melt(df_cleaned, id_vars=['Data Geomaster Name',\"latitude\",\"longitude\"], value_vars=df_cleaned.columns[2:-2].tolist())"
   ]
  },
  {
   "cell_type": "code",
   "execution_count": null,
   "id": "9e9dd29b-3558-42a4-8812-1d6d25109d90",
   "metadata": {},
   "outputs": [],
   "source": [
    "df.columns = [\"Country\", \"Latitude\", \"Longitude\", \"Date\", \"Refugees from Ukraine\"]"
   ]
  },
  {
   "cell_type": "code",
   "execution_count": null,
   "id": "44241b4f-3c9e-4d93-9743-db5f28b996ee",
   "metadata": {},
   "outputs": [],
   "source": [
    "df[\"datetime\"] = pd.to_datetime(df[\"Date\"])"
   ]
  },
  {
   "cell_type": "code",
   "execution_count": null,
   "id": "174e76b0-3520-4352-8356-491e51d92a71",
   "metadata": {},
   "outputs": [],
   "source": [
    "df = df.astype({'Refugees from Ukraine':'int'})"
   ]
  },
  {
   "cell_type": "markdown",
   "id": "1a9dcd42-ba1b-4a28-be08-f31477cdb59e",
   "metadata": {
    "tags": []
   },
   "source": [
    "### Part 2: Geographical Visualisation using Plotly\n",
    "\n",
    "We use a **choropleth map** to visualise the number of refugees escaping Ukraine to its 7 neighbouring countries."
   ]
  },
  {
   "cell_type": "code",
   "execution_count": null,
   "id": "f680c561-0a51-4e6c-866e-a5c92a6f1e81",
   "metadata": {},
   "outputs": [],
   "source": [
    "import pandas as pd\n",
    "import chart_studio.plotly as py\n",
    "import plotly.offline as po\n",
    "import plotly.graph_objs as pg\n",
    "import plotly.graph_objects as go\n",
    "import plotly.express as px\n",
    "import panel as pn\n",
    "\n",
    "import matplotlib.pyplot as plt\n",
    "%matplotlib inline"
   ]
  },
  {
   "cell_type": "code",
   "execution_count": null,
   "id": "ba6e0416-a1bc-4e43-badf-30d75121476b",
   "metadata": {},
   "outputs": [],
   "source": [
    "# po.init_notebook_mode(connected = True)"
   ]
  },
  {
   "cell_type": "code",
   "execution_count": null,
   "id": "8ab59451-9127-43c6-8c29-73e30b538aa0",
   "metadata": {},
   "outputs": [],
   "source": [
    "df_others, df_ukraine = df[df[\"Country\"] != \"Ukraine\"], df[df[\"Country\"] == \"Ukraine\"]"
   ]
  },
  {
   "cell_type": "code",
   "execution_count": null,
   "id": "fea4c9f1-11ac-417d-9e91-65649b990181",
   "metadata": {},
   "outputs": [],
   "source": [
    "# data = dict(type = \"choropleth\", \n",
    "#             locations = list(df_others.Country), \n",
    "#             locationmode = \"country names\", \n",
    "#             z = list(df_others[\"Refugees from Ukraine\"]), \n",
    "#             )\n",
    "\n",
    "fig = px.choropleth(df_others, \n",
    "                  locations=\"Country\",\n",
    "                  locationmode = \"country names\",\n",
    "                  hover_name=\"Country\",\n",
    "                  animation_frame = \"Date\",\n",
    "                  color = \"Refugees from Ukraine\",\n",
    "                  scope=\"europe\",\n",
    "                  height=800,\n",
    "                  width=1000,\n",
    "                  color_continuous_scale=px.colors.sequential.Cividis,\n",
    "                  range_color=[0,1000000],\n",
    "                  center = {\"lat\": 48.3794, \"lon\": 31.1656}, # Ukraine's coordinates\n",
    "                  fitbounds = \"locations\",\n",
    "                  )\n",
    "\n",
    "fig.update_layout(title_font_size=30, \n",
    "                  # paper_bgcolor = 'rgba(0,0,0,0)',\n",
    "                  # plot_bgcolor='rgba(0,0,0,0)',\n",
    "                  legend_bgcolor = \"#00FF00\",\n",
    "                  legend_bordercolor=\"#00FF00\",\n",
    "                  # showlegend=True,\n",
    "                  geo=dict(bgcolor= 'rgba(0,0,0,0)') # change choropleth background to white\n",
    "                 )\n",
    "\n",
    "# fig.show()"
   ]
  },
  {
   "cell_type": "code",
   "execution_count": null,
   "id": "ecd6d1b8-330a-4b04-a2b8-9778013efd9d",
   "metadata": {},
   "outputs": [],
   "source": [
    "def impact_1():\n",
    "    return pn.Column(pn.pane.Markdown(\"## Movement of Ukrainian Refugees into Neighbouring Countries\"), \n",
    "         pn.pane.Markdown(\"The war has displaced nearly 12 million Ukrainians from their homeland.\"),\n",
    "         pn.pane.Markdown(\"**Poland** has seen the largest influx of Ukrainian refugees, with the number hovering around 3.6 million refugees. \\\n",
    "                             Russia and Romania are close behind, receiving roughly 1 million Ukrainian refugees.\"),\n",
    "         pn.pane.Markdown(\"**Drag** the interactive slider below to see the movement over time. **Zoom in** on the map to see specific countries.\"),\n",
    "         pn.pane.Plotly(fig))\n",
    "\n",
    "main_3().show()"
   ]
  }
 ],
 "metadata": {
  "kernelspec": {
   "display_name": "Python 3 (ipykernel)",
   "language": "python",
   "name": "python3"
  },
  "language_info": {
   "codemirror_mode": {
    "name": "ipython",
    "version": 3
   },
   "file_extension": ".py",
   "mimetype": "text/x-python",
   "name": "python",
   "nbconvert_exporter": "python",
   "pygments_lexer": "ipython3",
   "version": "3.9.12"
  }
 },
 "nbformat": 4,
 "nbformat_minor": 5
}
